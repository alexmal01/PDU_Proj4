{
 "cells": [
  {
   "cell_type": "code",
   "execution_count": 34,
   "id": "c47e4e27-6e9e-456c-a295-fa71239b9739",
   "metadata": {},
   "outputs": [],
   "source": [
    "import pandas as pd, numpy as np, sqlite3, os, os.path, tempfile, time, matplotlib.pyplot as plt,seaborn as sns"
   ]
  },
  {
   "cell_type": "markdown",
   "id": "991cf63b-e096-49e0-8efd-7519ee23a5bd",
   "metadata": {},
   "source": [
    "# Wstęp\n",
    "\n",
    "W poniższym raporcie z czwartej pracy domowej z przedmiotu Przetwarzanie Danych Ustrukturyzowanych na II semestrze kierunku Inżynieria i Analiza Danych w roku akademickim 2020/2021 zostanie przedstawione porównanie wydajności i wyników zapytań SQL i ich odpowiedników napisanych z pomocą pakietu Pandas. Dane, tak jak w drugiej pracy domowej, pochodzą z serwisu https://travel.stackexchange.com/"
   ]
  },
  {
   "cell_type": "markdown",
   "id": "638c7f30-efe9-4978-a74d-bfce44f24cb6",
   "metadata": {},
   "source": [
    "# Wczytanie danych"
   ]
  },
  {
   "cell_type": "code",
   "execution_count": 3,
   "id": "7dfef14f-48ad-46f9-b79e-26c042acaa9d",
   "metadata": {},
   "outputs": [],
   "source": [
    "Badges = pd.read_csv(\"travel_stackexchange_com/Badges.csv.gz\", compression = 'gzip')\n",
    "Comments = pd.read_csv(\"travel_stackexchange_com/Comments.csv.gz\", compression = 'gzip')\n",
    "PostLinks = pd.read_csv(\"travel_stackexchange_com/PostLinks.csv.gz\", compression = 'gzip')\n",
    "Posts = pd.read_csv(\"travel_stackexchange_com/Posts.csv.gz\", compression = 'gzip')\n",
    "Tags = pd.read_csv(\"travel_stackexchange_com/Tags.csv.gz\", compression = 'gzip')\n",
    "Users = pd.read_csv(\"travel_stackexchange_com/Users.csv.gz\", compression = 'gzip')\n",
    "Votes = pd.read_csv(\"travel_stackexchange_com/Votes.csv.gz\", compression = 'gzip')"
   ]
  },
  {
   "cell_type": "markdown",
   "id": "78df380a-ac7c-4fd6-8070-714bf0039cca",
   "metadata": {},
   "source": [
    "# Utworzenie bazy danych"
   ]
  },
  {
   "cell_type": "code",
   "execution_count": 5,
   "id": "67ecfff5-ec66-43cc-8b63-d3345a57a739",
   "metadata": {},
   "outputs": [],
   "source": [
    "db = os.path.join(tempfile.mkdtemp(),'travelse.db')\n",
    "if os.path.isfile(db):\n",
    "    os.remove(db)\n",
    "conn = sqlite3.connect(db)\n",
    "Badges.to_sql(\"Badges\", conn)\n",
    "Comments.to_sql(\"Comments\", conn)\n",
    "PostLinks.to_sql(\"PostLinks\", conn)\n",
    "Posts.to_sql(\"Posts\", conn)\n",
    "Tags.to_sql(\"Tags\", conn)\n",
    "Users.to_sql(\"Users\", conn)\n",
    "Votes.to_sql(\"Votes\", conn)"
   ]
  },
  {
   "cell_type": "markdown",
   "id": "38fe22bd-980f-48e7-be83-f87bf201d0fd",
   "metadata": {},
   "source": [
    "# Rozwiązania"
   ]
  },
  {
   "cell_type": "markdown",
   "id": "6339fc1a-4c0c-450e-94d1-5f9f0a097ca5",
   "metadata": {},
   "source": [
    "## Zadanie 1\n",
    "\n",
    "Wybieramy 10 najczęściej występujących tagów."
   ]
  },
  {
   "cell_type": "markdown",
   "id": "c384e77c-6dad-477c-b364-7cf32726b8f3",
   "metadata": {},
   "source": [
    "### Rozwiązanie referencyjne"
   ]
  },
  {
   "cell_type": "code",
   "execution_count": 41,
   "id": "f850dfb5-44e6-45ca-8709-2c5bd78040a7",
   "metadata": {},
   "outputs": [
    {
     "data": {
      "text/html": [
       "<div>\n",
       "<style scoped>\n",
       "    .dataframe tbody tr th:only-of-type {\n",
       "        vertical-align: middle;\n",
       "    }\n",
       "\n",
       "    .dataframe tbody tr th {\n",
       "        vertical-align: top;\n",
       "    }\n",
       "\n",
       "    .dataframe thead th {\n",
       "        text-align: right;\n",
       "    }\n",
       "</style>\n",
       "<table border=\"1\" class=\"dataframe\">\n",
       "  <thead>\n",
       "    <tr style=\"text-align: right;\">\n",
       "      <th></th>\n",
       "      <th>TagName</th>\n",
       "      <th>Count</th>\n",
       "    </tr>\n",
       "  </thead>\n",
       "  <tbody>\n",
       "    <tr>\n",
       "      <th>0</th>\n",
       "      <td>visas</td>\n",
       "      <td>5271</td>\n",
       "    </tr>\n",
       "    <tr>\n",
       "      <th>1</th>\n",
       "      <td>usa</td>\n",
       "      <td>2858</td>\n",
       "    </tr>\n",
       "    <tr>\n",
       "      <th>2</th>\n",
       "      <td>air-travel</td>\n",
       "      <td>2830</td>\n",
       "    </tr>\n",
       "    <tr>\n",
       "      <th>3</th>\n",
       "      <td>uk</td>\n",
       "      <td>2114</td>\n",
       "    </tr>\n",
       "    <tr>\n",
       "      <th>4</th>\n",
       "      <td>schengen</td>\n",
       "      <td>2094</td>\n",
       "    </tr>\n",
       "    <tr>\n",
       "      <th>5</th>\n",
       "      <td>customs-and-immigration</td>\n",
       "      <td>1798</td>\n",
       "    </tr>\n",
       "    <tr>\n",
       "      <th>6</th>\n",
       "      <td>transit</td>\n",
       "      <td>1204</td>\n",
       "    </tr>\n",
       "    <tr>\n",
       "      <th>7</th>\n",
       "      <td>trains</td>\n",
       "      <td>1031</td>\n",
       "    </tr>\n",
       "    <tr>\n",
       "      <th>8</th>\n",
       "      <td>passports</td>\n",
       "      <td>954</td>\n",
       "    </tr>\n",
       "    <tr>\n",
       "      <th>9</th>\n",
       "      <td>indian-citizens</td>\n",
       "      <td>916</td>\n",
       "    </tr>\n",
       "  </tbody>\n",
       "</table>\n",
       "</div>"
      ],
      "text/plain": [
       "                   TagName  Count\n",
       "0                    visas   5271\n",
       "1                      usa   2858\n",
       "2               air-travel   2830\n",
       "3                       uk   2114\n",
       "4                 schengen   2094\n",
       "5  customs-and-immigration   1798\n",
       "6                  transit   1204\n",
       "7                   trains   1031\n",
       "8                passports    954\n",
       "9          indian-citizens    916"
      ]
     },
     "execution_count": 41,
     "metadata": {},
     "output_type": "execute_result"
    }
   ],
   "source": [
    "def sql_1():\n",
    "    return pd.read_sql_query(\"\"\"\n",
    "    SELECT TagName, Count\n",
    "    FROM Tags\n",
    "    ORDER BY Count DESC\n",
    "    LIMIT 10\n",
    "    \"\"\",conn)\n",
    "start = time.time()\n",
    "df_sql_1 = sql_1()\n",
    "stop = time.time()\n",
    "sql_1_time = stop - start\n",
    "df_sql_1"
   ]
  },
  {
   "cell_type": "markdown",
   "id": "cc83b6ed-da4c-420f-8db8-444d05e197cd",
   "metadata": {},
   "source": [
    "### Rozwiązanie Pandas"
   ]
  },
  {
   "cell_type": "code",
   "execution_count": 42,
   "id": "8f8f05de-c98b-45c0-bb39-03dcaa95ab69",
   "metadata": {},
   "outputs": [
    {
     "data": {
      "text/html": [
       "<div>\n",
       "<style scoped>\n",
       "    .dataframe tbody tr th:only-of-type {\n",
       "        vertical-align: middle;\n",
       "    }\n",
       "\n",
       "    .dataframe tbody tr th {\n",
       "        vertical-align: top;\n",
       "    }\n",
       "\n",
       "    .dataframe thead th {\n",
       "        text-align: right;\n",
       "    }\n",
       "</style>\n",
       "<table border=\"1\" class=\"dataframe\">\n",
       "  <thead>\n",
       "    <tr style=\"text-align: right;\">\n",
       "      <th></th>\n",
       "      <th>TagName</th>\n",
       "      <th>Count</th>\n",
       "    </tr>\n",
       "  </thead>\n",
       "  <tbody>\n",
       "    <tr>\n",
       "      <th>0</th>\n",
       "      <td>visas</td>\n",
       "      <td>5271</td>\n",
       "    </tr>\n",
       "    <tr>\n",
       "      <th>1</th>\n",
       "      <td>usa</td>\n",
       "      <td>2858</td>\n",
       "    </tr>\n",
       "    <tr>\n",
       "      <th>2</th>\n",
       "      <td>air-travel</td>\n",
       "      <td>2830</td>\n",
       "    </tr>\n",
       "    <tr>\n",
       "      <th>3</th>\n",
       "      <td>uk</td>\n",
       "      <td>2114</td>\n",
       "    </tr>\n",
       "    <tr>\n",
       "      <th>4</th>\n",
       "      <td>schengen</td>\n",
       "      <td>2094</td>\n",
       "    </tr>\n",
       "    <tr>\n",
       "      <th>5</th>\n",
       "      <td>customs-and-immigration</td>\n",
       "      <td>1798</td>\n",
       "    </tr>\n",
       "    <tr>\n",
       "      <th>6</th>\n",
       "      <td>transit</td>\n",
       "      <td>1204</td>\n",
       "    </tr>\n",
       "    <tr>\n",
       "      <th>7</th>\n",
       "      <td>trains</td>\n",
       "      <td>1031</td>\n",
       "    </tr>\n",
       "    <tr>\n",
       "      <th>8</th>\n",
       "      <td>passports</td>\n",
       "      <td>954</td>\n",
       "    </tr>\n",
       "    <tr>\n",
       "      <th>9</th>\n",
       "      <td>indian-citizens</td>\n",
       "      <td>916</td>\n",
       "    </tr>\n",
       "  </tbody>\n",
       "</table>\n",
       "</div>"
      ],
      "text/plain": [
       "                   TagName  Count\n",
       "0                    visas   5271\n",
       "1                      usa   2858\n",
       "2               air-travel   2830\n",
       "3                       uk   2114\n",
       "4                 schengen   2094\n",
       "5  customs-and-immigration   1798\n",
       "6                  transit   1204\n",
       "7                   trains   1031\n",
       "8                passports    954\n",
       "9          indian-citizens    916"
      ]
     },
     "execution_count": 42,
     "metadata": {},
     "output_type": "execute_result"
    }
   ],
   "source": [
    "def pd_1():\n",
    "    return Tags.loc[:,[\"TagName\",\"Count\"]].sort_values(\"Count\",ascending = False).head(10).reset_index(drop=True)\n",
    "start = time.time()\n",
    "df_pd_1 = pd_1()\n",
    "stop = time.time()\n",
    "pd_1_time = stop - start\n",
    "df_pd_1"
   ]
  },
  {
   "cell_type": "markdown",
   "id": "126e5a09-4af5-4b34-84cf-feaca2b551f4",
   "metadata": {},
   "source": [
    "### Sprawdzenie poprawności i prędkości"
   ]
  },
  {
   "cell_type": "code",
   "execution_count": 43,
   "id": "30149fe6-f848-44c7-9435-a8ceaecc4d10",
   "metadata": {},
   "outputs": [
    {
     "name": "stdout",
     "output_type": "stream",
     "text": [
      "True\n"
     ]
    },
    {
     "name": "stderr",
     "output_type": "stream",
     "text": [
      "A:\\Inzynieria_i_Analiza_Danych_PW\\Anaconda\\lib\\site-packages\\seaborn\\_decorators.py:36: FutureWarning: Pass the following variables as keyword args: x, y. From version 0.12, the only valid positional argument will be `data`, and passing other arguments without an explicit keyword will result in an error or misinterpretation.\n",
      "  warnings.warn(\n"
     ]
    },
    {
     "data": {
      "text/plain": [
       "<AxesSubplot:>"
      ]
     },
     "execution_count": 43,
     "metadata": {},
     "output_type": "execute_result"
    },
    {
     "data": {
      "image/png": "[encoded data removed]",
      "text/plain": [
       "<Figure size 432x288 with 1 Axes>"
      ]
     },
     "metadata": {
      "needs_background": "light"
     },
     "output_type": "display_data"
    }
   ],
   "source": [
    "print(df_pd_1.equals(df_sql_1))\n",
    "sns.barplot([\"pandas\",\"sqlite3\"],[pd_1_time,sql_1_time])"
   ]
  },
  {
   "cell_type": "markdown",
   "id": "abe95939-15ee-408c-8684-7fba165dfd7e",
   "metadata": {},
   "source": [
    "**Wnioski**\n",
    "\n",
    "W przypadku mało złożonego zapytania rozwiązanie referencyjne wykonuje się około 2 razy szybciej niż to uzyskane za pomocą pakietu pandas. Oba czasy wykonania są jednak tak niewielkie, że w grę wchodzi tu margines błędu pomiarowego.\n",
    "\n"
   ]
  },
  {
   "cell_type": "markdown",
   "id": "7c422684-ac8a-4067-b570-07f09ea8053e",
   "metadata": {},
   "source": [
    "\n",
    "## Zadanie 2\n",
    "\n",
    "\n",
    "Z tabeli Comments wybieramy PostID, UserID oraz sumę kolumny Score, ozn. CommentsTotalScore, pogrupowane kolejno po PostID i UserID. W wyniku tych operacji otrzymujemy tabelę, którą oznaczamy jako CmtTotScr. \n",
    "\n",
    "Łączymy CmtTotScr z Posts po ID postów, biorąc pod uwagę jedynie posty będące pytaniami (o PostTypeId równym 1). Z połączonej tabeli wybieramy kolumny Posts.Title, Posts.CommentCount, CmtTotScr.CommentsTotalScore, Posts.ViewCount, a następnie sortujemy malejąco względem wartości zmiennej CmtTotScr.CommentsTotalScore i wybieramy pierwsze 10 rekordów. \n",
    "\n",
    "Oznacza to że wybieramy 10 pytań, których komentarze mają największą sumę punktów (czy też \"łapek w górę\")."
   ]
  },
  {
   "cell_type": "markdown",
   "id": "9e56dacd-acf7-4881-a36c-173d7f525d63",
   "metadata": {},
   "source": [
    "### Rozwiązanie referencyjne"
   ]
  },
  {
   "cell_type": "code",
   "execution_count": 46,
   "id": "b641416a-7430-4187-8371-5623e24104ec",
   "metadata": {},
   "outputs": [
    {
     "data": {
      "text/html": [
       "<div>\n",
       "<style scoped>\n",
       "    .dataframe tbody tr th:only-of-type {\n",
       "        vertical-align: middle;\n",
       "    }\n",
       "\n",
       "    .dataframe tbody tr th {\n",
       "        vertical-align: top;\n",
       "    }\n",
       "\n",
       "    .dataframe thead th {\n",
       "        text-align: right;\n",
       "    }\n",
       "</style>\n",
       "<table border=\"1\" class=\"dataframe\">\n",
       "  <thead>\n",
       "    <tr style=\"text-align: right;\">\n",
       "      <th></th>\n",
       "      <th>Title</th>\n",
       "      <th>CommentCount</th>\n",
       "      <th>CommentsTotalScore</th>\n",
       "      <th>ViewCount</th>\n",
       "    </tr>\n",
       "  </thead>\n",
       "  <tbody>\n",
       "    <tr>\n",
       "      <th>0</th>\n",
       "      <td>Boss is asking for passport, but it has a stam...</td>\n",
       "      <td>24</td>\n",
       "      <td>207</td>\n",
       "      <td>54982.0</td>\n",
       "    </tr>\n",
       "    <tr>\n",
       "      <th>1</th>\n",
       "      <td>Why don't airlines have backup planes just in ...</td>\n",
       "      <td>26</td>\n",
       "      <td>172</td>\n",
       "      <td>14516.0</td>\n",
       "    </tr>\n",
       "    <tr>\n",
       "      <th>2</th>\n",
       "      <td>OK we're all adults here, so really, how on ea...</td>\n",
       "      <td>27</td>\n",
       "      <td>155</td>\n",
       "      <td>73808.0</td>\n",
       "    </tr>\n",
       "    <tr>\n",
       "      <th>3</th>\n",
       "      <td>How to cross a road by foot in a country that ...</td>\n",
       "      <td>25</td>\n",
       "      <td>140</td>\n",
       "      <td>5240.0</td>\n",
       "    </tr>\n",
       "    <tr>\n",
       "      <th>4</th>\n",
       "      <td>Where can I change my clothes at the airport?</td>\n",
       "      <td>16</td>\n",
       "      <td>128</td>\n",
       "      <td>12020.0</td>\n",
       "    </tr>\n",
       "    <tr>\n",
       "      <th>5</th>\n",
       "      <td>Boss is asking for passport, but it has a stam...</td>\n",
       "      <td>24</td>\n",
       "      <td>121</td>\n",
       "      <td>54982.0</td>\n",
       "    </tr>\n",
       "    <tr>\n",
       "      <th>6</th>\n",
       "      <td>How to avoid toddlers on a long-distance plane...</td>\n",
       "      <td>19</td>\n",
       "      <td>120</td>\n",
       "      <td>24955.0</td>\n",
       "    </tr>\n",
       "    <tr>\n",
       "      <th>7</th>\n",
       "      <td>Job interview in London requires me to wire mo...</td>\n",
       "      <td>23</td>\n",
       "      <td>116</td>\n",
       "      <td>14827.0</td>\n",
       "    </tr>\n",
       "    <tr>\n",
       "      <th>8</th>\n",
       "      <td>What to do without underwear on a 4 day trip?</td>\n",
       "      <td>13</td>\n",
       "      <td>110</td>\n",
       "      <td>11713.0</td>\n",
       "    </tr>\n",
       "    <tr>\n",
       "      <th>9</th>\n",
       "      <td>OK, we are all adults here, so what is a bidet...</td>\n",
       "      <td>28</td>\n",
       "      <td>109</td>\n",
       "      <td>52265.0</td>\n",
       "    </tr>\n",
       "  </tbody>\n",
       "</table>\n",
       "</div>"
      ],
      "text/plain": [
       "                                               Title  CommentCount  \\\n",
       "0  Boss is asking for passport, but it has a stam...            24   \n",
       "1  Why don't airlines have backup planes just in ...            26   \n",
       "2  OK we're all adults here, so really, how on ea...            27   \n",
       "3  How to cross a road by foot in a country that ...            25   \n",
       "4      Where can I change my clothes at the airport?            16   \n",
       "5  Boss is asking for passport, but it has a stam...            24   \n",
       "6  How to avoid toddlers on a long-distance plane...            19   \n",
       "7  Job interview in London requires me to wire mo...            23   \n",
       "8      What to do without underwear on a 4 day trip?            13   \n",
       "9  OK, we are all adults here, so what is a bidet...            28   \n",
       "\n",
       "   CommentsTotalScore  ViewCount  \n",
       "0                 207    54982.0  \n",
       "1                 172    14516.0  \n",
       "2                 155    73808.0  \n",
       "3                 140     5240.0  \n",
       "4                 128    12020.0  \n",
       "5                 121    54982.0  \n",
       "6                 120    24955.0  \n",
       "7                 116    14827.0  \n",
       "8                 110    11713.0  \n",
       "9                 109    52265.0  "
      ]
     },
     "execution_count": 46,
     "metadata": {},
     "output_type": "execute_result"
    }
   ],
   "source": [
    "def sql_2():\n",
    "    return pd.read_sql_query(\"\"\"\n",
    "SELECT\n",
    "    Posts.Title, Posts.CommentCount,\n",
    "    CmtTotScr.CommentsTotalScore,\n",
    "    Posts.ViewCount\n",
    "FROM (\n",
    "        SELECT\n",
    "            PostID,\n",
    "            UserID,\n",
    "            SUM(Score) AS CommentsTotalScore\n",
    "        FROM Comments\n",
    "        GROUP BY PostID, UserID\n",
    ") AS CmtTotScr\n",
    "JOIN Posts ON Posts.ID=CmtTotScr.PostID\n",
    "WHERE Posts.PostTypeId=1\n",
    "ORDER BY CmtTotScr.CommentsTotalScore DESC\n",
    "LIMIT 10\n",
    "\"\"\",conn)\n",
    "start = time.time()\n",
    "df_sql_2 = sql_2()\n",
    "stop = time.time()\n",
    "sql_2_time = stop - start\n",
    "df_sql_2"
   ]
  },
  {
   "cell_type": "markdown",
   "id": "d3b02af4-0063-4e58-96cc-735e867af91e",
   "metadata": {},
   "source": [
    "### Rozwiązanie Pandas"
   ]
  },
  {
   "cell_type": "code",
   "execution_count": 92,
   "id": "645d3a69-c02a-4110-bbb3-038a6b4f5717",
   "metadata": {},
   "outputs": [
    {
     "data": {
      "text/html": [
       "<div>\n",
       "<style scoped>\n",
       "    .dataframe tbody tr th:only-of-type {\n",
       "        vertical-align: middle;\n",
       "    }\n",
       "\n",
       "    .dataframe tbody tr th {\n",
       "        vertical-align: top;\n",
       "    }\n",
       "\n",
       "    .dataframe thead th {\n",
       "        text-align: right;\n",
       "    }\n",
       "</style>\n",
       "<table border=\"1\" class=\"dataframe\">\n",
       "  <thead>\n",
       "    <tr style=\"text-align: right;\">\n",
       "      <th></th>\n",
       "      <th>Title</th>\n",
       "      <th>CommentCount</th>\n",
       "      <th>CommentsTotalScore</th>\n",
       "      <th>ViewCount</th>\n",
       "    </tr>\n",
       "  </thead>\n",
       "  <tbody>\n",
       "    <tr>\n",
       "      <th>0</th>\n",
       "      <td>Boss is asking for passport, but it has a stam...</td>\n",
       "      <td>24</td>\n",
       "      <td>207</td>\n",
       "      <td>54982.0</td>\n",
       "    </tr>\n",
       "    <tr>\n",
       "      <th>1</th>\n",
       "      <td>Why don't airlines have backup planes just in ...</td>\n",
       "      <td>26</td>\n",
       "      <td>172</td>\n",
       "      <td>14516.0</td>\n",
       "    </tr>\n",
       "    <tr>\n",
       "      <th>2</th>\n",
       "      <td>OK we're all adults here, so really, how on ea...</td>\n",
       "      <td>27</td>\n",
       "      <td>155</td>\n",
       "      <td>73808.0</td>\n",
       "    </tr>\n",
       "    <tr>\n",
       "      <th>3</th>\n",
       "      <td>How to cross a road by foot in a country that ...</td>\n",
       "      <td>25</td>\n",
       "      <td>140</td>\n",
       "      <td>5240.0</td>\n",
       "    </tr>\n",
       "    <tr>\n",
       "      <th>4</th>\n",
       "      <td>Where can I change my clothes at the airport?</td>\n",
       "      <td>16</td>\n",
       "      <td>128</td>\n",
       "      <td>12020.0</td>\n",
       "    </tr>\n",
       "    <tr>\n",
       "      <th>5</th>\n",
       "      <td>Boss is asking for passport, but it has a stam...</td>\n",
       "      <td>24</td>\n",
       "      <td>121</td>\n",
       "      <td>54982.0</td>\n",
       "    </tr>\n",
       "    <tr>\n",
       "      <th>6</th>\n",
       "      <td>How to avoid toddlers on a long-distance plane...</td>\n",
       "      <td>19</td>\n",
       "      <td>120</td>\n",
       "      <td>24955.0</td>\n",
       "    </tr>\n",
       "    <tr>\n",
       "      <th>7</th>\n",
       "      <td>Job interview in London requires me to wire mo...</td>\n",
       "      <td>23</td>\n",
       "      <td>116</td>\n",
       "      <td>14827.0</td>\n",
       "    </tr>\n",
       "    <tr>\n",
       "      <th>8</th>\n",
       "      <td>What to do without underwear on a 4 day trip?</td>\n",
       "      <td>13</td>\n",
       "      <td>110</td>\n",
       "      <td>11713.0</td>\n",
       "    </tr>\n",
       "    <tr>\n",
       "      <th>9</th>\n",
       "      <td>OK, we are all adults here, so what is a bidet...</td>\n",
       "      <td>28</td>\n",
       "      <td>109</td>\n",
       "      <td>52265.0</td>\n",
       "    </tr>\n",
       "  </tbody>\n",
       "</table>\n",
       "</div>"
      ],
      "text/plain": [
       "                                               Title  CommentCount  \\\n",
       "0  Boss is asking for passport, but it has a stam...            24   \n",
       "1  Why don't airlines have backup planes just in ...            26   \n",
       "2  OK we're all adults here, so really, how on ea...            27   \n",
       "3  How to cross a road by foot in a country that ...            25   \n",
       "4      Where can I change my clothes at the airport?            16   \n",
       "5  Boss is asking for passport, but it has a stam...            24   \n",
       "6  How to avoid toddlers on a long-distance plane...            19   \n",
       "7  Job interview in London requires me to wire mo...            23   \n",
       "8      What to do without underwear on a 4 day trip?            13   \n",
       "9  OK, we are all adults here, so what is a bidet...            28   \n",
       "\n",
       "   CommentsTotalScore  ViewCount  \n",
       "0                 207    54982.0  \n",
       "1                 172    14516.0  \n",
       "2                 155    73808.0  \n",
       "3                 140     5240.0  \n",
       "4                 128    12020.0  \n",
       "5                 121    54982.0  \n",
       "6                 120    24955.0  \n",
       "7                 116    14827.0  \n",
       "8                 110    11713.0  \n",
       "9                 109    52265.0  "
      ]
     },
     "execution_count": 92,
     "metadata": {},
     "output_type": "execute_result"
    }
   ],
   "source": [
    "def pd_2():\n",
    "    CmtTotScr = Comments.loc[:,[\"PostId\",\"UserId\",\"Score\"]].groupby([\"PostId\",\"UserId\"]).sum(\"Score\").reset_index()\n",
    "    CmtTotScr.columns = [\"PostId\",\"UserId\",\"CommentsTotalScore\"]\n",
    "    df1 = CmtTotScr.merge(Posts,left_on='PostId',right_on='Id')\n",
    "    return df1[df1.PostTypeId == 1].sort_values('CommentsTotalScore',ascending = False).loc[:,['Title','CommentCount','CommentsTotalScore','ViewCount']].head(10).reset_index(drop = True)\n",
    "start = time.time()\n",
    "df_pd_2 = pd_2()\n",
    "stop = time.time()\n",
    "pd_2_time = stop - start\n",
    "df_pd_2"
   ]
  },
  {
   "cell_type": "markdown",
   "id": "31a0cec2-31c0-4112-b859-bc78974e4a26",
   "metadata": {},
   "source": [
    "### Sprawdzenie poprawności i prędkości"
   ]
  },
  {
   "cell_type": "code",
   "execution_count": 93,
   "id": "1a362585-49f7-4605-9d6b-3369fb0bd55e",
   "metadata": {},
   "outputs": [
    {
     "name": "stdout",
     "output_type": "stream",
     "text": [
      "True\n"
     ]
    },
    {
     "name": "stderr",
     "output_type": "stream",
     "text": [
      "A:\\Inzynieria_i_Analiza_Danych_PW\\Anaconda\\lib\\site-packages\\seaborn\\_decorators.py:36: FutureWarning: Pass the following variables as keyword args: x, y. From version 0.12, the only valid positional argument will be `data`, and passing other arguments without an explicit keyword will result in an error or misinterpretation.\n",
      "  warnings.warn(\n"
     ]
    },
    {
     "data": {
      "text/plain": [
       "<AxesSubplot:>"
      ]
     },
     "execution_count": 93,
     "metadata": {},
     "output_type": "execute_result"
    },
    {
     "data": {
      "image/png": "[encoded data removed]",
      "text/plain": [
       "<Figure size 432x288 with 1 Axes>"
      ]
     },
     "metadata": {
      "needs_background": "light"
     },
     "output_type": "display_data"
    }
   ],
   "source": [
    "print(df_pd_2.equals(df_sql_2))\n",
    "sns.barplot([\"pandas\",\"sqlite3\"],[pd_2_time,sql_2_time])"
   ]
  },
  {
   "cell_type": "markdown",
   "id": "8b259c9d-0e5e-4a8b-912b-26e6a8b73d58",
   "metadata": {
    "tags": []
   },
   "source": [
    "**Wnioski**\n",
    "\n",
    "Widzimy, że, przy bardziej złożonym zapytaniu, pandas działa znacząco szybciej niż rozwiązanie referencyjne. Zapewne wynika to w jakimś stopniu z czasu dostępu do tymczasowej bazy danych, jednak godna uwagi jest też prędkość działania operacji na DataFrame'ach. Razem zajmuje to mniej niż 0.2 sekundy, co jest zadowalającym wynikiem jak na tabelę zawierającą ponad 150 tysięcy rekordów."
   ]
  },
  {
   "cell_type": "markdown",
   "id": "3d529789-4695-4c3d-a4f5-cb0fb9f199f5",
   "metadata": {},
   "source": [
    "# Podsumowanie\n",
    "\n",
    "\n",
    "Pakiet Pandas zapewnia wysoką wydajność m.in. w zastosowaniach bazodanowych. Zwięzłość kodu i rozbudowane funkcje stanowią niezaprzeczalne plusy tej biblioteki."
   ]
  },
  {
   "cell_type": "code",
   "execution_count": 95,
   "id": "caf97249-a0ce-48ae-b510-83cc19f4ba12",
   "metadata": {},
   "outputs": [],
   "source": [
    "conn.close()"
   ]
  }
 ],
 "metadata": {
  "kernelspec": {
   "display_name": "Python 3",
   "language": "python",
   "name": "python3"
  },
  "language_info": {
   "codemirror_mode": {
    "name": "ipython",
    "version": 3
   },
   "file_extension": ".py",
   "mimetype": "text/x-python",
   "name": "python",
   "nbconvert_exporter": "python",
   "pygments_lexer": "ipython3",
   "version": "3.8.8"
  }
 },
 "nbformat": 4,
 "nbformat_minor": 5
}
